{
  "nbformat": 4,
  "nbformat_minor": 0,
  "metadata": {
    "colab": {
      "provenance": []
    },
    "kernelspec": {
      "name": "python3",
      "display_name": "Python 3"
    },
    "language_info": {
      "name": "python"
    }
  },
  "cells": [
    {
      "cell_type": "markdown",
      "source": [
        "1.  What are data structures, and why are they important ?\n",
        " - Data structures are specialized formats for organizing, processing, retrieving, and storing data in a computer so it can be used efficiently.\n",
        " Linear Data Structure: A data structure in which data elements are arranged sequentially or linearly, where each element is attached to its previous and next adjacent elements, is called a linear data structure. Examples are array, stack, queue, etc.\n",
        " Non-linear Data Structure: Data structures where data elements are not placed sequentially or linearly are called non-linear data structures. Examples are trees and graphs.\n",
        " The common data structures include lists, tuples, sets, and dictionaries—each designed for specific types of operations. Their importance lies in how they influence the performance and clarity of a program. Choosing the right data structure can make tasks like searching, sorting, or updating data much faster and more memory-efficient. They also help in modeling real-world problems more accurately, making code easier to understand, maintain, and scale.\n",
        "\n",
        " 2. Explain the difference between mutable and immutable data types with examples?\n",
        " - Mutable data types allow modifications to their contents without changing their identity in memory. This means we can update, add, or remove elements from the object directly.\n",
        " Example : List\n",
        "\n",
        "    my_list = [1, 2, 3]\n",
        "    my_list.append(4)\n",
        "    -> [1, 2, 3, 4]\n",
        "\n",
        "   Immutable data types, on the other hand, cannot be changed once they are created. Any operation that seems to modify them actually creates a new object.\n",
        "   Example : Tuple\n",
        "    my_tuple = (1, 2, 3)\n",
        "\n",
        " 3. What are the main differences between lists and tuples in Python?\n",
        " - The main differences between lists and tuples in Python revolve around\n",
        "   mutability, performance, and use cases.\n",
        "   Mutability : Lists are mutable, meaning we can change their contents—add, remove, or modify elements—after creation. Tuples are immutable, so once defined, their contents cannot be altered. This makes tuples safer for storing fixed data like coordinates or configuration settings\n",
        "   Performance: Tuples are generally faster and more memory-efficient than lists because they are immutable. Python can optimize their storage and access more effectively\n",
        "\n",
        " 4. Describe how dictionaries store data\n",
        " - Python dictionaries store data using a structure called a hash map, which allows for fast and efficient access to values using unique keys. Each item in a dictionary is a key-value pair, where the key acts like a label and the value is the data associated with that label. When create a dictionary, Python internally applies a hashing function to each key, converting it into a unique integer (called a hash). This hash determines where the value is stored in memory, making retrieval extremely fast—even for large datasets\n",
        " For example, in the dictionary :\n",
        " student = {'name': 'Asha', 'age': 20, 'grade': 'A'}\n",
        "\n",
        " 5.  Why might you use a set instead of a list in Python ?\n",
        " - In Python, a set is used when we need to store unique elements and perform fast membership checks. Unlike lists, sets automatically remove duplicates and are optimized for quick lookups. They are ideal for tasks like filtering repeated values or comparing groups of items. However, sets are unordered and do not support indexing, so they are best used when order does not matter.\n",
        "\n",
        " 6. What is a string in Python, and how is it different from a list?\n",
        " - In Python, a string is a sequence of characters used to represent text, enclosed in quotes like \"hello\" or 'world'. A list, on the other hand, is a sequence that can hold items of any data type—numbers, strings, even other lists—and is enclosed in square brackets like [1, \"apple\", 3.14]. The key difference is that strings are immutable, meaning you can not change their characters directly, while lists are mutable, allowing you to add, remove, or modify elements. Also, strings only contain characters, whereas lists can mix different types of data. Both are ordered and support indexing, but their behavior and flexibility are quite different\n",
        "\n",
        " 7. How do tuples ensure data integrity in Python ?\n",
        " - Tuples ensure data integrity in Python by being immutable, meaning their contents cannot be changed once they are created. This immutability prevents accidental or unauthorized modifications, making tuples ideal for storing fixed collections of data like coordinates, configuration settings, or constant values. Because tuples cannot be altered, they help maintain consistency and reliability in programs, especially when passing data between functions or using them as keys in dictionaries. This property makes tuples a safe choice when we want to protect data from being changed during execution.\n",
        "\n",
        " 8. What is a hash table, and how does it relate to dictionaries in Python?\n",
        " - A hash table is a data structure that stores key-value pairs and allows for fast data retrieval using a process called hashing. When a key is added to a hash table, a hash function converts it into a unique number (called a hash code), which determines where the corresponding value is stored in memory. This makes operations like lookup, insertion, and deletion extremely efficient even with large datasets.\n",
        " In Python, the dictionary is a built-in implementation of a hash table. Each key in a dictionary is hashed, and the resulting hash code is used to quickly locate the associated value. This is why dictionary lookups are much faster than searching through a list. Python also handles hash collisions when two keys produce the same hash code using techniques like open addressing or chaining, ensuring reliable performance.\n",
        "\n",
        " 9. Can lists contain different data types in Python ?\n",
        " - Yes, Python lists can contain different data types. This flexibility is one of the strengths of Python's dynamic typing. we can mix integers, strings, floats, booleans, even other lists or dictionaries—all within the same list. example : mixed_list = [42, \"hello\", 3.14, True, [1, 2], {\"key\": \"value\"}]\n",
        "\n",
        " 10. Explain why strings are immutable in Python ?\n",
        " - Strings in Python are immutable to ensure data integrity, memory efficiency, and thread safety. When a string is created, its contents cannot be changed any operation that seems to modify it actually creates a new string object. This design allows Python to reuse string objects internally, saving memory and improving performance, especially for frequently used values like variable names or keywords. Immutability also prevents accidental or malicious changes to string data, which is crucial when strings are used as dictionary keys or in multi-threaded programs. By keeping strings unchangeable, Python simplifies how they behave, making code more predictable and secure.\n",
        "\n",
        " 11.  What advantages do dictionaries offer over lists for certain tasks ?\n",
        " - Dictionaries offer several key advantages over lists in Python, especially when it comes to tasks involving fast lookups, structured data, and uniqueness of keys. Unlike lists, which store items in a linear, indexed fashion, dictionaries use a hash table to store data as key value pairs. This allows for constant time access to values using keys, making retrieval much faster than searching through a list.\n",
        " Dictionaries also help organize data more clearly. For example, storing a student's name, age, and grade in a dictionary like {\"name\": \"Jay\", \"age\": 20, \"grade\": \"A\"} is more intuitive and readable than using a list like [\"Jay\", 20, \"A\"], where the meaning of each item depends on its position. Additionally, dictionaries enforce unique keys, which prevents duplication and helps maintain data integrity\n",
        "\n",
        " 12. Describe a scenario where using a tuple would be preferable over a list?\n",
        " - Tuple is preferable over a list when we need to store a fixed set of values that should not change throughout the program. For example, imagine you're building a GPS navigation system and need to represent the coordinates of a location latitude and longitude. Since these values are constant for a given location, using a tuple like (19.0760, 72.8777) ensures they remain unchanged. This immutability protects the data from accidental modification and signals to other developers that the values are meant to stay the same. Tuples also offer better performance and can be used as dictionary keys, unlike lists\n",
        "\n",
        " 13.  How do sets handle duplicate values in Python?\n",
        " - In Python, sets automatically eliminate duplicate values. When we add elements to a set, Python checks each one using a hashing mechanism and only keeps unique items. If a duplicate is added, it's simply ignored—no error, no change to the set.\n",
        " For example : numbers = {1, 2, 2, 3, 4, 4, 5}\n",
        " print(numbers)  # Output: {1, 2, 3, 4, 5}\n",
        "\n",
        " 14. How does the “in” keyword work differently for lists and dictionaries?\n",
        " - The in keyword behaves differently for lists and dictionaries in Python because it checks for different things:\n",
        " In a list, in checks whether a value exists among the list's elements.\n",
        " fruits = ['apple', 'banana', 'cherry']\n",
        " print('banana' in fruits)  # True\n",
        " In a dictionary, in checks whether a key exists—not a value\n",
        " student = {'name': 'Asha', 'age': 20}\n",
        " print('age' in student)     # True\n",
        " print(20 in student)        # False\n",
        "\n",
        " 15. Can you modify the elements of a tuple? Explain why or why not\n",
        " - No, we cannot directly modify the elements of a tuple in Python because tuples are immutable. This means that once a tuple is created, its contents—whether numbers, strings, or other objects—cannot be changed, added to, or removed. If we try to assign a new value to an element in a tuple, Python will raise a TypeError. This immutability is intentional: it helps ensure data integrity, allows tuples to be used as dictionary keys, and enables certain performance optimizations. However, if you really need to change a tuple, you can convert it into a list (which is mutable), make your changes, and then convert it back into a tuple\n",
        "\n",
        " 16.  What is a nested dictionary, and give an example of its use case?\n",
        " - A nested dictionary in Python is a dictionary inside another dictionary.\n",
        " It allows you to store structured or hierarchical data by grouping related information under a single key. This is especially useful when modeling complex objects or records.\n",
        " Use case : building a student database. Each student has a name, age, and grade. Instead of using separate dictionaries\n",
        " students = {\n",
        "    \"student1\": {\"name\": \"Jay\", \"age\": 20, \"grade\": \"A\"},\n",
        "    \"student2\": {\"name\": \"abhi\", \"age\": 21, \"grade\": \"B\"},\n",
        "    \"student3\": {\"name\": \"rohan\", \"age\": 22, \"grade\": \"A+\"}\n",
        "            }\n",
        "\n",
        " 17. Describe the time complexity of accessing elements in a dictionary\n",
        " - Accessing elements in a Python dictionary typically has constant time complexity, or O(1), thanks to its underlying hash table implementation. When we use a key to retrieve a value, Python computes the key's hash and jumps directly to the memory location where the value is stored.\n",
        "\n",
        " 18. In what situations are lists preferred over dictionaries?\n",
        " - Lists are preferred over dictionaries when :\n",
        " Order matters: Lists maintain the order of elements, so they're ideal for sequences where position is important—like steps in a process or items in a queue.\n",
        " Duplicates are allowed: Lists can contain repeated values, unlike dictionary keys which must be unique.\n",
        " Index based access is needed: If you need to access elements by position\n",
        " (e.g., my_list[2]), lists are the way to go.\n",
        " Simple collections: When you're storing a group of items without needing labels like a list of scores, names, or dates a list is more straightforward.\n",
        " Frequent reordering or slicing: Lists support easy sorting, reversing, and slicing, which makes them great for tasks like rearranging data or extracting subsets.\n",
        "\n",
        " 19. Why are dictionaries considered unordered, and how does that affect data retrieval?\n",
        " - Dictionaries in Python were traditionally considered unordered because they're built on hash tables, which store key value pairs based on the hash of the key not its position. This means that the physical placement of items in memory doesn't follow a predictable sequence like a list does.\n",
        " Fast lookups: You retrieve values by key, not by position, which is efficient (O(1) time complexity).\n",
        " No positional access: we can't do my_dict[0] to get the first item.\n",
        " Order isn't always meaningful: Even though insertion order is preserved, relying on it for logic can be risky if the dictionary is modified.\n",
        "\n",
        " 20.  Explain the difference between a list and a dictionary in terms of data retrieval\n",
        " - In Python, the difference between a list and a dictionary in terms of data retrieval lies in how we access the stored information and the efficiency of that access.\n",
        " A list is an ordered collection of elements accessed by their index. Each item has a position, starting from zero, and you retrieve data by specifying that position. For example, my_list[2] returns the third item in the list. This method works well when the order of items matters, such as in sequences or queues. However, searching for a specific value in a list requires scanning through each element, which can be slow for large datasets typically O(n) time complexity.\n",
        " A dictionary, on the other hand, stores data as key-value pairs and retrieves values using their keys, not positions. For instance, my_dict[\"name\"] quickly returns the value associated with \"name\". This lookup is much faster usually O(1) time complexity because Python uses a hash table under the hood. Dictionaries are ideal when you need to associate data with unique identifiers and access it quickly, regardless of its position"
      ],
      "metadata": {
        "id": "NFovPOf89uLl"
      }
    },
    {
      "cell_type": "code",
      "source": [
        "#Write a code to create a string with your name and print it\n",
        "my_name = \"Jaydeep\"\n",
        "print(\"My name is\", my_name)\n"
      ],
      "metadata": {
        "colab": {
          "base_uri": "https://localhost:8080/"
        },
        "id": "Sb6aM6Wc-EzM",
        "outputId": "9bbe1f1d-117b-46aa-addf-1ffcc6d2e265"
      },
      "execution_count": 2,
      "outputs": [
        {
          "output_type": "stream",
          "name": "stdout",
          "text": [
            "My name is Jaydeep\n"
          ]
        }
      ]
    },
    {
      "cell_type": "code",
      "source": [
        "#Write a code to find the length of the string \"Hello World\"\n",
        "text = \"Hello World\"\n",
        "length = len(text)\n",
        "print(\"The length of the string is:\", length)"
      ],
      "metadata": {
        "colab": {
          "base_uri": "https://localhost:8080/"
        },
        "id": "FLIkDtyh-kPU",
        "outputId": "5e40f983-75a0-492f-c927-cfd09e939006"
      },
      "execution_count": 3,
      "outputs": [
        {
          "output_type": "stream",
          "name": "stdout",
          "text": [
            "The length of the string is: 11\n"
          ]
        }
      ]
    },
    {
      "cell_type": "code",
      "source": [
        "#Write a code to slice the first 3 characters from the string \"Python Programming\"\n",
        "text = \"Python Programming\"\n",
        "sliced_text = text[:3]\n",
        "print(\"The sliced text is:\", sliced_text)"
      ],
      "metadata": {
        "colab": {
          "base_uri": "https://localhost:8080/"
        },
        "id": "AVH3616O-1oc",
        "outputId": "1112211d-db4e-4148-9bb3-372b633b24d5"
      },
      "execution_count": 4,
      "outputs": [
        {
          "output_type": "stream",
          "name": "stdout",
          "text": [
            "The sliced text is: Pyt\n"
          ]
        }
      ]
    },
    {
      "cell_type": "code",
      "source": [
        "#Write a code to convert the string \"hello\" to uppercase\n",
        "text = \"hello\"\n",
        "uppercase_text = text.upper()\n",
        "print(uppercase_text)"
      ],
      "metadata": {
        "colab": {
          "base_uri": "https://localhost:8080/"
        },
        "id": "mpKqjmhd_CiI",
        "outputId": "a4ad1679-7284-482c-a674-b7eae251b90a"
      },
      "execution_count": 5,
      "outputs": [
        {
          "output_type": "stream",
          "name": "stdout",
          "text": [
            "HELLO\n"
          ]
        }
      ]
    },
    {
      "cell_type": "code",
      "source": [
        "#Write a code to replace the word \"apple\" with \"orange\" in the string \"I like apple\"\n",
        "text = \"I like apple\"\n",
        "new_text = text.replace(\"apple\", \"orange\")\n",
        "print(new_text)"
      ],
      "metadata": {
        "colab": {
          "base_uri": "https://localhost:8080/"
        },
        "id": "OPGgVaUg_R_X",
        "outputId": "6c85c71f-8ca3-45c5-b6df-ee5c50b517de"
      },
      "execution_count": 6,
      "outputs": [
        {
          "output_type": "stream",
          "name": "stdout",
          "text": [
            "I like orange\n"
          ]
        }
      ]
    },
    {
      "cell_type": "code",
      "source": [
        "# Write a code to create a list with numbers 1 to 5 and print it\n",
        "numbers = list(range(1, 6))\n",
        "print(numbers)"
      ],
      "metadata": {
        "colab": {
          "base_uri": "https://localhost:8080/"
        },
        "id": "lsq5ERi__pxp",
        "outputId": "3dd3c36a-7df1-4671-f929-ceb34f8a32a0"
      },
      "execution_count": 7,
      "outputs": [
        {
          "output_type": "stream",
          "name": "stdout",
          "text": [
            "[1, 2, 3, 4, 5]\n"
          ]
        }
      ]
    },
    {
      "cell_type": "code",
      "source": [
        "#Write a code to append the number 10 to the list [1, 2, 3, 4]\n",
        "numbers = [1, 2, 3, 4]\n",
        "numbers.append(10)\n",
        "print(numbers)"
      ],
      "metadata": {
        "colab": {
          "base_uri": "https://localhost:8080/"
        },
        "id": "xwd94JeiAK0D",
        "outputId": "2025b756-3c68-4bff-9372-fb9204eb68f3"
      },
      "execution_count": 8,
      "outputs": [
        {
          "output_type": "stream",
          "name": "stdout",
          "text": [
            "[1, 2, 3, 4, 10]\n"
          ]
        }
      ]
    },
    {
      "cell_type": "code",
      "source": [
        "# Write a code to remove the number 3 from the list [1, 2, 3, 4, 5]\n",
        "numbers = [1, 2, 3, 4, 5]\n",
        "numbers.remove(3)\n",
        "print(numbers)"
      ],
      "metadata": {
        "colab": {
          "base_uri": "https://localhost:8080/"
        },
        "id": "ORxUH2wOAQTi",
        "outputId": "72366def-88cd-4b06-ec8e-0fcc86d98681"
      },
      "execution_count": 10,
      "outputs": [
        {
          "output_type": "stream",
          "name": "stdout",
          "text": [
            "[1, 2, 4, 5]\n"
          ]
        }
      ]
    },
    {
      "cell_type": "code",
      "source": [
        "#Write a code to access the second element in the list ['a', 'b', 'c', 'd']\n",
        "my_list = ['a', 'b', 'c', 'd']\n",
        "second_element = my_list[1]\n",
        "print(second_element)"
      ],
      "metadata": {
        "colab": {
          "base_uri": "https://localhost:8080/"
        },
        "id": "26AHMWV7AlyZ",
        "outputId": "180624d9-f263-4e2a-ac23-2c0130ab2c57"
      },
      "execution_count": 11,
      "outputs": [
        {
          "output_type": "stream",
          "name": "stdout",
          "text": [
            "b\n"
          ]
        }
      ]
    },
    {
      "cell_type": "code",
      "source": [
        "#Write a code to reverse the list [10, 20, 30, 40, 50]\n",
        "numbers = [10, 20, 30, 40, 50]\n",
        "reversed_numbers = numbers[::-1]\n",
        "print(reversed_numbers)"
      ],
      "metadata": {
        "colab": {
          "base_uri": "https://localhost:8080/"
        },
        "id": "1pTwDj1UAstU",
        "outputId": "e6301453-a8d3-48df-aa6a-3eb9a2683747"
      },
      "execution_count": 12,
      "outputs": [
        {
          "output_type": "stream",
          "name": "stdout",
          "text": [
            "[50, 40, 30, 20, 10]\n"
          ]
        }
      ]
    },
    {
      "cell_type": "code",
      "source": [
        " #Write a code to create a tuple with the elements 100, 200, 300 and print it.\n",
        " my_tuple = (100, 200, 300)\n",
        " print(my_tuple)"
      ],
      "metadata": {
        "colab": {
          "base_uri": "https://localhost:8080/"
        },
        "id": "REPnq5VAA3B6",
        "outputId": "0ed77c45-af02-4470-a1ff-32552a526e48"
      },
      "execution_count": 13,
      "outputs": [
        {
          "output_type": "stream",
          "name": "stdout",
          "text": [
            "(100, 200, 300)\n"
          ]
        }
      ]
    },
    {
      "cell_type": "code",
      "source": [
        "#. Write a code to access the second-to-last element of the tuple ('red', 'green', 'blue', 'yellow').\n",
        "my_tuple = ('red', 'green', 'blue', 'yellow')\n",
        "second_to_last_element = my_tuple[-2]\n",
        "print(second_to_last_element)"
      ],
      "metadata": {
        "colab": {
          "base_uri": "https://localhost:8080/"
        },
        "id": "-MuPcoF2BC5R",
        "outputId": "673c4641-46c3-4d5b-8994-8b994810694f"
      },
      "execution_count": 14,
      "outputs": [
        {
          "output_type": "stream",
          "name": "stdout",
          "text": [
            "blue\n"
          ]
        }
      ]
    },
    {
      "cell_type": "code",
      "source": [
        "#Write a code to find the minimum number in the tuple (10, 20, 5, 15).\n",
        "my_tuple = (10, 20, 5, 15)\n",
        "minimum_number = min(my_tuple)\n",
        "print(minimum_number)"
      ],
      "metadata": {
        "colab": {
          "base_uri": "https://localhost:8080/"
        },
        "id": "q9sO9DetBPNL",
        "outputId": "ec49f323-def0-4c5e-aa10-e484d6a9f2e4"
      },
      "execution_count": 15,
      "outputs": [
        {
          "output_type": "stream",
          "name": "stdout",
          "text": [
            "5\n"
          ]
        }
      ]
    },
    {
      "cell_type": "code",
      "source": [
        "# Write a code to find the index of the element \"cat\" in the tuple ('dog', 'cat', 'rabbit')\n",
        "my_tuple = ('dog', 'cat', 'rabbit')\n",
        "index_of_cat = my_tuple.index('cat')\n",
        "print(index_of_cat)"
      ],
      "metadata": {
        "colab": {
          "base_uri": "https://localhost:8080/"
        },
        "id": "o9YT4GnsBZwb",
        "outputId": "cfd1f2e0-2087-404c-c07e-04bff451c7f3"
      },
      "execution_count": 16,
      "outputs": [
        {
          "output_type": "stream",
          "name": "stdout",
          "text": [
            "1\n"
          ]
        }
      ]
    },
    {
      "cell_type": "code",
      "source": [
        "# Write a code to create a tuple containing three different fruits and check if \"kiwi\" is in it.\n",
        "fruits = ('apple', 'banana', 'orange')\n",
        "is_kiwi_in_tuple = 'kiwi' in fruits\n",
        "print(is_kiwi_in_tuple)"
      ],
      "metadata": {
        "colab": {
          "base_uri": "https://localhost:8080/"
        },
        "id": "0hnqVhMqBwT0",
        "outputId": "021cf475-499e-4d4c-a626-801cfbc8b428"
      },
      "execution_count": 17,
      "outputs": [
        {
          "output_type": "stream",
          "name": "stdout",
          "text": [
            "False\n"
          ]
        }
      ]
    },
    {
      "cell_type": "code",
      "source": [
        "#Write a code to create a set with the elements 'a', 'b', 'c' and print it.\n",
        "my_set = {'a', 'b', 'c'}\n",
        "print(my_set)"
      ],
      "metadata": {
        "colab": {
          "base_uri": "https://localhost:8080/"
        },
        "id": "j-k_pJQpB-6f",
        "outputId": "5c2bf8cc-d681-48f4-f2f1-dd8c93ea03f3"
      },
      "execution_count": 18,
      "outputs": [
        {
          "output_type": "stream",
          "name": "stdout",
          "text": [
            "{'a', 'c', 'b'}\n"
          ]
        }
      ]
    },
    {
      "cell_type": "code",
      "source": [
        "#Write a code to clear all elements from the set {1, 2, 3, 4, 5}.\n",
        "my_set = {1, 2, 3, 4, 5}\n",
        "my_set.clear()\n",
        "print(my_set)"
      ],
      "metadata": {
        "colab": {
          "base_uri": "https://localhost:8080/"
        },
        "id": "AheeYa4ICHw7",
        "outputId": "0fa5741e-2f86-4d23-81f1-d9f43e599643"
      },
      "execution_count": 19,
      "outputs": [
        {
          "output_type": "stream",
          "name": "stdout",
          "text": [
            "set()\n"
          ]
        }
      ]
    },
    {
      "cell_type": "code",
      "source": [
        "# Write a code to remove the element 4 from the set {1, 2, 3, 4}\n",
        "my_set = {1, 2, 3, 4}\n",
        "my_set.remove(4)\n",
        "print(my_set)\n"
      ],
      "metadata": {
        "colab": {
          "base_uri": "https://localhost:8080/"
        },
        "id": "PKK1TTxdCYtB",
        "outputId": "2f1e3682-222d-4770-89cd-aa97018cc711"
      },
      "execution_count": 20,
      "outputs": [
        {
          "output_type": "stream",
          "name": "stdout",
          "text": [
            "{1, 2, 3}\n"
          ]
        }
      ]
    },
    {
      "cell_type": "code",
      "source": [
        "# Write a code to find the union of two sets {1, 2, 3} and {3, 4, 5}\n",
        "set1 = {1, 2, 3}\n",
        "set2 = {3, 4, 5}\n",
        "union_set = set1.union(set2)\n",
        "print(union_set)"
      ],
      "metadata": {
        "colab": {
          "base_uri": "https://localhost:8080/"
        },
        "id": "lkvAetUDChQL",
        "outputId": "2810e5ab-3cdf-481b-d021-9f184ef1f285"
      },
      "execution_count": 21,
      "outputs": [
        {
          "output_type": "stream",
          "name": "stdout",
          "text": [
            "{1, 2, 3, 4, 5}\n"
          ]
        }
      ]
    },
    {
      "cell_type": "code",
      "source": [
        "#Write a code to find the intersection of two sets {1, 2, 3} and {2, 3, 4}\n",
        "set1 = {1, 2, 3}\n",
        "set2 = {2, 3, 4}\n",
        "intersection_set = set1.intersection(set2)\n",
        "print(intersection_set)\n"
      ],
      "metadata": {
        "colab": {
          "base_uri": "https://localhost:8080/"
        },
        "id": "tkkqlxPECvj1",
        "outputId": "807d8705-23cf-4775-d333-5d3213a7dffa"
      },
      "execution_count": 22,
      "outputs": [
        {
          "output_type": "stream",
          "name": "stdout",
          "text": [
            "{2, 3}\n"
          ]
        }
      ]
    },
    {
      "cell_type": "code",
      "source": [
        " #Write a code to create a dictionary with the keys \"name\", \"age\", and \"city\", and print it\n",
        " my_dict = {\"name\": \"Jaydeep\", \"age\": 20, \"city\": \"Mumbai\"}\n",
        " print(my_dict)"
      ],
      "metadata": {
        "colab": {
          "base_uri": "https://localhost:8080/"
        },
        "id": "onYTtuc5C_gD",
        "outputId": "f87e7da1-f1db-45d2-e0aa-989f1a5fa1a7"
      },
      "execution_count": 23,
      "outputs": [
        {
          "output_type": "stream",
          "name": "stdout",
          "text": [
            "{'name': 'Jaydeep', 'age': 20, 'city': 'Mumbai'}\n"
          ]
        }
      ]
    },
    {
      "cell_type": "code",
      "source": [
        "# Write a code to add a new key-value pair \"country\": \"USA\" to the dictionary {'name': 'John', 'age': 25}\n",
        "\n",
        "my_dict = {'name': 'John', 'age': 25}\n",
        "my_dict['country'] = 'USA'\n",
        "print(my_dict)"
      ],
      "metadata": {
        "colab": {
          "base_uri": "https://localhost:8080/"
        },
        "id": "ZcdNTTxLDKin",
        "outputId": "e7c97b17-ed51-461f-bbe6-6523bc47dd22"
      },
      "execution_count": 24,
      "outputs": [
        {
          "output_type": "stream",
          "name": "stdout",
          "text": [
            "{'name': 'John', 'age': 25, 'country': 'USA'}\n"
          ]
        }
      ]
    },
    {
      "cell_type": "code",
      "source": [
        "#Write a code to access the value associated with the key \"name\" in the dictionary {'name': 'Alice', 'age': 30}.\n",
        "my_dict = {'name': 'Alice', 'age': 30}\n",
        "name_value = my_dict['name']\n",
        "print(name_value)\n"
      ],
      "metadata": {
        "colab": {
          "base_uri": "https://localhost:8080/"
        },
        "id": "blLLgbhTDXIM",
        "outputId": "70f2e02f-280f-46c5-fa84-89f637adf573"
      },
      "execution_count": 25,
      "outputs": [
        {
          "output_type": "stream",
          "name": "stdout",
          "text": [
            "Alice\n"
          ]
        }
      ]
    },
    {
      "cell_type": "code",
      "source": [
        "#Write a code to remove the key \"age\" from the dictionary {'name': 'Bob', 'age': 22, 'city': 'New York'}\n",
        "my_dict = {'name': 'Bob', 'age': 22, 'city': 'New York'}\n",
        "del my_dict['age']\n",
        "print(my_dict)\n"
      ],
      "metadata": {
        "colab": {
          "base_uri": "https://localhost:8080/"
        },
        "id": "LMcTCNuUDgfs",
        "outputId": "6ee3963f-5e0b-412f-81fc-19f5d2598820"
      },
      "execution_count": 26,
      "outputs": [
        {
          "output_type": "stream",
          "name": "stdout",
          "text": [
            "{'name': 'Bob', 'city': 'New York'}\n"
          ]
        }
      ]
    },
    {
      "cell_type": "code",
      "source": [
        "# Write a code to check if the key \"city\" exists in the dictionary {'name': 'Alice', 'city': 'Paris'}\n",
        "my_dict = {'name': 'Alice', 'city': 'Paris'}\n",
        "city_exists = 'city' in my_dict\n",
        "print(city_exists)"
      ],
      "metadata": {
        "colab": {
          "base_uri": "https://localhost:8080/"
        },
        "id": "VUVxWLd_Dwkn",
        "outputId": "a52a0547-629c-4bce-adce-a3dfe9b4a8b0"
      },
      "execution_count": 27,
      "outputs": [
        {
          "output_type": "stream",
          "name": "stdout",
          "text": [
            "True\n"
          ]
        }
      ]
    },
    {
      "cell_type": "code",
      "source": [
        "# Write a code to create a list, a tuple, and a dictionary, and print them all\n",
        "my_list = [1, 2, 3, 4, 5]\n",
        "my_tuple = (10, 20, 30, 40, 50)\n",
        "print(my_tuple)\n",
        "print(my_list)"
      ],
      "metadata": {
        "colab": {
          "base_uri": "https://localhost:8080/"
        },
        "id": "xY1Nv0fPEeq4",
        "outputId": "212f59d3-adb7-45ff-e716-b58080a93d5c"
      },
      "execution_count": 30,
      "outputs": [
        {
          "output_type": "stream",
          "name": "stdout",
          "text": [
            "(10, 20, 30, 40, 50)\n",
            "[1, 2, 3, 4, 5]\n"
          ]
        }
      ]
    },
    {
      "cell_type": "code",
      "source": [
        "#Write a code to create a list of 5 random numbers between 1 and 100, sort it in ascending order, and print the result.(replaced)\n",
        "import random\n",
        "random_numbers = [random.randint(1, 100) for _ in range(5)]\n",
        "random_numbers.sort()\n",
        "print(random_numbers)\n"
      ],
      "metadata": {
        "colab": {
          "base_uri": "https://localhost:8080/"
        },
        "id": "shgY8khyEluR",
        "outputId": "3b733bb0-5fe9-4030-fa33-053bc7f32fa7"
      },
      "execution_count": 33,
      "outputs": [
        {
          "output_type": "stream",
          "name": "stdout",
          "text": [
            "[13, 18, 44, 65, 90]\n"
          ]
        }
      ]
    },
    {
      "cell_type": "code",
      "source": [
        "#Write a code to create a list with strings and print the element at the third index.\n",
        "\n",
        "my_list = [\"apple\", \"banana\", \"cherry\", \"date\", \"elderberry\"]\n",
        "third_element = my_list[2]\n",
        "print(third_element)"
      ],
      "metadata": {
        "colab": {
          "base_uri": "https://localhost:8080/"
        },
        "id": "OjR0O4ukFJYi",
        "outputId": "1526baeb-4af8-49bd-8516-3cba3aaab503"
      },
      "execution_count": 34,
      "outputs": [
        {
          "output_type": "stream",
          "name": "stdout",
          "text": [
            "cherry\n"
          ]
        }
      ]
    },
    {
      "cell_type": "code",
      "source": [
        "#Write a code to combine two dictionaries into one and print the result\n",
        "dict1 = {'a': 1, 'b': 2}\n",
        "dict2 = {'c': 3, 'd': 4}\n",
        "combined_dict = {**dict1, **dict2}\n",
        "print(combined_dict)"
      ],
      "metadata": {
        "colab": {
          "base_uri": "https://localhost:8080/"
        },
        "id": "ZSPvht02FSu7",
        "outputId": "f0c88c19-55a4-4335-eb45-4099d4ce87d7"
      },
      "execution_count": 35,
      "outputs": [
        {
          "output_type": "stream",
          "name": "stdout",
          "text": [
            "{'a': 1, 'b': 2, 'c': 3, 'd': 4}\n"
          ]
        }
      ]
    },
    {
      "cell_type": "code",
      "source": [
        "#Write a code to convert a list of strings into a set\n",
        "my_list = [\"apple\", \"banana\", \"cherry\", \"apple\", \"banana\"]\n",
        "my_set = set(my_list)\n",
        "print(my_set)\n"
      ],
      "metadata": {
        "colab": {
          "base_uri": "https://localhost:8080/"
        },
        "id": "LIj29a4tFdHa",
        "outputId": "92256fab-364f-48ce-e397-384f9412d41d"
      },
      "execution_count": 36,
      "outputs": [
        {
          "output_type": "stream",
          "name": "stdout",
          "text": [
            "{'apple', 'banana', 'cherry'}\n"
          ]
        }
      ]
    }
  ]
}